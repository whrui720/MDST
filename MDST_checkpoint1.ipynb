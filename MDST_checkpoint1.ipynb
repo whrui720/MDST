{
  "cells": [
    {
      "cell_type": "markdown",
      "metadata": {
        "id": "view-in-github",
        "colab_type": "text"
      },
      "source": [
        "<a href=\"https://colab.research.google.com/github/whrui720/MDST/blob/main/MDST_checkpoint1.ipynb\" target=\"_parent\"><img src=\"https://colab.research.google.com/assets/colab-badge.svg\" alt=\"Open In Colab\"/></a>"
      ]
    },
    {
      "cell_type": "markdown",
      "metadata": {
        "id": "99Ymr_FJtn-K"
      },
      "source": [
        "# Checkpoint 1"
      ]
    },
    {
      "cell_type": "markdown",
      "metadata": {
        "id": "UGBTO973tn-L"
      },
      "source": [
        "Reminder:\n",
        "\n",
        "- You are being evaluated for completion and effort in this checkpoint.\n",
        "- Avoid manual labor / hard coding as much as possible, everything we've taught you so far are meant to simplify and automate your process."
      ]
    },
    {
      "cell_type": "markdown",
      "metadata": {
        "id": "GX4k77DEtn-L"
      },
      "source": [
        "We will be working with the same `states_edu.csv` that you should already be familiar with from the tutorial.\n",
        "\n",
        "We investigated Grade 8 reading score in the tutorial. For this checkpoint, you are asked to investigate another test. Here's an overview:\n",
        "\n",
        "* Choose a specific response variable to focus on\n",
        ">Grade 4 Math, Grade 4 Reading, Grade 8 Math\n",
        "* Pick or create features to use\n",
        ">Will all the features be useful in predicting test score? Are some more important than others? Should you standardize, bin, or scale the data?\n",
        "* Explore the data as it relates to that test\n",
        ">Create at least 2 visualizations (graphs), each with a caption describing the graph and what it tells us about the data\n",
        "* Create training and testing data\n",
        ">Do you want to train on all the data? Only data from the last 10 years? Only Michigan data?\n",
        "* Train a ML model to predict outcome\n",
        ">Define what you want to predict, and pick a model in sklearn to use (see sklearn <a href=\"https://scikit-learn.org/stable/modules/linear_model.html\">regressors</a>.\n",
        "* Summarize your findings\n",
        ">Write a 1 paragraph summary of what you did and make a recommendation about if and how student performance can be predicted\n",
        "\n",
        "Include comments throughout your code! Every cleanup and preprocessing task should be documented.\n",
        "\n",
        "Of course, if you're finding this assignment interesting (and we really hope you do!), you are welcome to do more than the requirements! For example, you may want to see if expenditure affects 4th graders more than 8th graders. Maybe you want to look into the extended version of this dataset and see how factors like sex and race are involved. You can include all your work in this notebook when you turn it in -- just always make sure you explain what you did and interpret your results. Good luck!"
      ]
    },
    {
      "cell_type": "markdown",
      "metadata": {
        "id": "47d1VVK6tn-M"
      },
      "source": [
        "<h2> Data Cleanup </h2>\n",
        "\n",
        "Import `numpy`, `pandas`, and `matplotlib`.\n",
        "\n",
        "(Feel free to import other libraries!)"
      ]
    },
    {
      "cell_type": "code",
      "source": [],
      "metadata": {
        "id": "V1LfLumu2Mje"
      },
      "execution_count": null,
      "outputs": []
    },
    {
      "cell_type": "code",
      "execution_count": null,
      "metadata": {
        "id": "ZLMBbv4Xtn-M"
      },
      "outputs": [],
      "source": [
        "import pandas as pd\n",
        "import numpy as np\n",
        "import matplotlib.pyplot as plt\n",
        "\n",
        "# Suppress Pandas SettingWithCopyWarning\n",
        "pd.options.mode.chained_assignment = None"
      ]
    },
    {
      "cell_type": "markdown",
      "metadata": {
        "id": "cz5SoRl3tn-M"
      },
      "source": [
        "Load in the \"states_edu.csv\" dataset and take a look at the head of the data"
      ]
    },
    {
      "cell_type": "code",
      "execution_count": null,
      "metadata": {
        "colab": {
          "base_uri": "https://localhost:8080/",
          "height": 253
        },
        "id": "qc7-1lZ5tn-N",
        "outputId": "0218eaae-1c8f-4898-bd00-a23d3cbe4dba"
      },
      "outputs": [
        {
          "output_type": "execute_result",
          "data": {
            "text/plain": [
              "       PRIMARY_KEY       STATE  YEAR  ENROLL  TOTAL_REVENUE  FEDERAL_REVENUE  \\\n",
              "0     1992_ALABAMA     ALABAMA  1992     NaN      2678885.0         304177.0   \n",
              "1      1992_ALASKA      ALASKA  1992     NaN      1049591.0         106780.0   \n",
              "2     1992_ARIZONA     ARIZONA  1992     NaN      3258079.0         297888.0   \n",
              "3    1992_ARKANSAS    ARKANSAS  1992     NaN      1711959.0         178571.0   \n",
              "4  1992_CALIFORNIA  CALIFORNIA  1992     NaN     26260025.0        2072470.0   \n",
              "\n",
              "   STATE_REVENUE  LOCAL_REVENUE  TOTAL_EXPENDITURE  INSTRUCTION_EXPENDITURE  \\\n",
              "0      1659028.0       715680.0          2653798.0                1481703.0   \n",
              "1       720711.0       222100.0           972488.0                 498362.0   \n",
              "2      1369815.0      1590376.0          3401580.0                1435908.0   \n",
              "3       958785.0       574603.0          1743022.0                 964323.0   \n",
              "4     16546514.0      7641041.0         27138832.0               14358922.0   \n",
              "\n",
              "   ...  GRADES_4_G  GRADES_8_G  GRADES_12_G  GRADES_1_8_G  GRADES_9_12_G  \\\n",
              "0  ...     57948.0     58025.0      41167.0           NaN            NaN   \n",
              "1  ...      9748.0      8789.0       6714.0           NaN            NaN   \n",
              "2  ...     55433.0     49081.0      37410.0           NaN            NaN   \n",
              "3  ...     34632.0     36011.0      27651.0           NaN            NaN   \n",
              "4  ...    418418.0    363296.0     270675.0           NaN            NaN   \n",
              "\n",
              "   GRADES_ALL_G  AVG_MATH_4_SCORE  AVG_MATH_8_SCORE  AVG_READING_4_SCORE  \\\n",
              "0      731634.0             208.0             252.0                207.0   \n",
              "1      122487.0               NaN               NaN                  NaN   \n",
              "2      673477.0             215.0             265.0                209.0   \n",
              "3      441490.0             210.0             256.0                211.0   \n",
              "4     5254844.0             208.0             261.0                202.0   \n",
              "\n",
              "   AVG_READING_8_SCORE  \n",
              "0                  NaN  \n",
              "1                  NaN  \n",
              "2                  NaN  \n",
              "3                  NaN  \n",
              "4                  NaN  \n",
              "\n",
              "[5 rows x 25 columns]"
            ],
            "text/html": [
              "\n",
              "  <div id=\"df-35fabd8d-541f-4c5a-86da-96d7b40ec875\" class=\"colab-df-container\">\n",
              "    <div>\n",
              "<style scoped>\n",
              "    .dataframe tbody tr th:only-of-type {\n",
              "        vertical-align: middle;\n",
              "    }\n",
              "\n",
              "    .dataframe tbody tr th {\n",
              "        vertical-align: top;\n",
              "    }\n",
              "\n",
              "    .dataframe thead th {\n",
              "        text-align: right;\n",
              "    }\n",
              "</style>\n",
              "<table border=\"1\" class=\"dataframe\">\n",
              "  <thead>\n",
              "    <tr style=\"text-align: right;\">\n",
              "      <th></th>\n",
              "      <th>PRIMARY_KEY</th>\n",
              "      <th>STATE</th>\n",
              "      <th>YEAR</th>\n",
              "      <th>ENROLL</th>\n",
              "      <th>TOTAL_REVENUE</th>\n",
              "      <th>FEDERAL_REVENUE</th>\n",
              "      <th>STATE_REVENUE</th>\n",
              "      <th>LOCAL_REVENUE</th>\n",
              "      <th>TOTAL_EXPENDITURE</th>\n",
              "      <th>INSTRUCTION_EXPENDITURE</th>\n",
              "      <th>...</th>\n",
              "      <th>GRADES_4_G</th>\n",
              "      <th>GRADES_8_G</th>\n",
              "      <th>GRADES_12_G</th>\n",
              "      <th>GRADES_1_8_G</th>\n",
              "      <th>GRADES_9_12_G</th>\n",
              "      <th>GRADES_ALL_G</th>\n",
              "      <th>AVG_MATH_4_SCORE</th>\n",
              "      <th>AVG_MATH_8_SCORE</th>\n",
              "      <th>AVG_READING_4_SCORE</th>\n",
              "      <th>AVG_READING_8_SCORE</th>\n",
              "    </tr>\n",
              "  </thead>\n",
              "  <tbody>\n",
              "    <tr>\n",
              "      <th>0</th>\n",
              "      <td>1992_ALABAMA</td>\n",
              "      <td>ALABAMA</td>\n",
              "      <td>1992</td>\n",
              "      <td>NaN</td>\n",
              "      <td>2678885.0</td>\n",
              "      <td>304177.0</td>\n",
              "      <td>1659028.0</td>\n",
              "      <td>715680.0</td>\n",
              "      <td>2653798.0</td>\n",
              "      <td>1481703.0</td>\n",
              "      <td>...</td>\n",
              "      <td>57948.0</td>\n",
              "      <td>58025.0</td>\n",
              "      <td>41167.0</td>\n",
              "      <td>NaN</td>\n",
              "      <td>NaN</td>\n",
              "      <td>731634.0</td>\n",
              "      <td>208.0</td>\n",
              "      <td>252.0</td>\n",
              "      <td>207.0</td>\n",
              "      <td>NaN</td>\n",
              "    </tr>\n",
              "    <tr>\n",
              "      <th>1</th>\n",
              "      <td>1992_ALASKA</td>\n",
              "      <td>ALASKA</td>\n",
              "      <td>1992</td>\n",
              "      <td>NaN</td>\n",
              "      <td>1049591.0</td>\n",
              "      <td>106780.0</td>\n",
              "      <td>720711.0</td>\n",
              "      <td>222100.0</td>\n",
              "      <td>972488.0</td>\n",
              "      <td>498362.0</td>\n",
              "      <td>...</td>\n",
              "      <td>9748.0</td>\n",
              "      <td>8789.0</td>\n",
              "      <td>6714.0</td>\n",
              "      <td>NaN</td>\n",
              "      <td>NaN</td>\n",
              "      <td>122487.0</td>\n",
              "      <td>NaN</td>\n",
              "      <td>NaN</td>\n",
              "      <td>NaN</td>\n",
              "      <td>NaN</td>\n",
              "    </tr>\n",
              "    <tr>\n",
              "      <th>2</th>\n",
              "      <td>1992_ARIZONA</td>\n",
              "      <td>ARIZONA</td>\n",
              "      <td>1992</td>\n",
              "      <td>NaN</td>\n",
              "      <td>3258079.0</td>\n",
              "      <td>297888.0</td>\n",
              "      <td>1369815.0</td>\n",
              "      <td>1590376.0</td>\n",
              "      <td>3401580.0</td>\n",
              "      <td>1435908.0</td>\n",
              "      <td>...</td>\n",
              "      <td>55433.0</td>\n",
              "      <td>49081.0</td>\n",
              "      <td>37410.0</td>\n",
              "      <td>NaN</td>\n",
              "      <td>NaN</td>\n",
              "      <td>673477.0</td>\n",
              "      <td>215.0</td>\n",
              "      <td>265.0</td>\n",
              "      <td>209.0</td>\n",
              "      <td>NaN</td>\n",
              "    </tr>\n",
              "    <tr>\n",
              "      <th>3</th>\n",
              "      <td>1992_ARKANSAS</td>\n",
              "      <td>ARKANSAS</td>\n",
              "      <td>1992</td>\n",
              "      <td>NaN</td>\n",
              "      <td>1711959.0</td>\n",
              "      <td>178571.0</td>\n",
              "      <td>958785.0</td>\n",
              "      <td>574603.0</td>\n",
              "      <td>1743022.0</td>\n",
              "      <td>964323.0</td>\n",
              "      <td>...</td>\n",
              "      <td>34632.0</td>\n",
              "      <td>36011.0</td>\n",
              "      <td>27651.0</td>\n",
              "      <td>NaN</td>\n",
              "      <td>NaN</td>\n",
              "      <td>441490.0</td>\n",
              "      <td>210.0</td>\n",
              "      <td>256.0</td>\n",
              "      <td>211.0</td>\n",
              "      <td>NaN</td>\n",
              "    </tr>\n",
              "    <tr>\n",
              "      <th>4</th>\n",
              "      <td>1992_CALIFORNIA</td>\n",
              "      <td>CALIFORNIA</td>\n",
              "      <td>1992</td>\n",
              "      <td>NaN</td>\n",
              "      <td>26260025.0</td>\n",
              "      <td>2072470.0</td>\n",
              "      <td>16546514.0</td>\n",
              "      <td>7641041.0</td>\n",
              "      <td>27138832.0</td>\n",
              "      <td>14358922.0</td>\n",
              "      <td>...</td>\n",
              "      <td>418418.0</td>\n",
              "      <td>363296.0</td>\n",
              "      <td>270675.0</td>\n",
              "      <td>NaN</td>\n",
              "      <td>NaN</td>\n",
              "      <td>5254844.0</td>\n",
              "      <td>208.0</td>\n",
              "      <td>261.0</td>\n",
              "      <td>202.0</td>\n",
              "      <td>NaN</td>\n",
              "    </tr>\n",
              "  </tbody>\n",
              "</table>\n",
              "<p>5 rows × 25 columns</p>\n",
              "</div>\n",
              "    <div class=\"colab-df-buttons\">\n",
              "\n",
              "  <div class=\"colab-df-container\">\n",
              "    <button class=\"colab-df-convert\" onclick=\"convertToInteractive('df-35fabd8d-541f-4c5a-86da-96d7b40ec875')\"\n",
              "            title=\"Convert this dataframe to an interactive table.\"\n",
              "            style=\"display:none;\">\n",
              "\n",
              "  <svg xmlns=\"http://www.w3.org/2000/svg\" height=\"24px\" viewBox=\"0 -960 960 960\">\n",
              "    <path d=\"M120-120v-720h720v720H120Zm60-500h600v-160H180v160Zm220 220h160v-160H400v160Zm0 220h160v-160H400v160ZM180-400h160v-160H180v160Zm440 0h160v-160H620v160ZM180-180h160v-160H180v160Zm440 0h160v-160H620v160Z\"/>\n",
              "  </svg>\n",
              "    </button>\n",
              "\n",
              "  <style>\n",
              "    .colab-df-container {\n",
              "      display:flex;\n",
              "      gap: 12px;\n",
              "    }\n",
              "\n",
              "    .colab-df-convert {\n",
              "      background-color: #E8F0FE;\n",
              "      border: none;\n",
              "      border-radius: 50%;\n",
              "      cursor: pointer;\n",
              "      display: none;\n",
              "      fill: #1967D2;\n",
              "      height: 32px;\n",
              "      padding: 0 0 0 0;\n",
              "      width: 32px;\n",
              "    }\n",
              "\n",
              "    .colab-df-convert:hover {\n",
              "      background-color: #E2EBFA;\n",
              "      box-shadow: 0px 1px 2px rgba(60, 64, 67, 0.3), 0px 1px 3px 1px rgba(60, 64, 67, 0.15);\n",
              "      fill: #174EA6;\n",
              "    }\n",
              "\n",
              "    .colab-df-buttons div {\n",
              "      margin-bottom: 4px;\n",
              "    }\n",
              "\n",
              "    [theme=dark] .colab-df-convert {\n",
              "      background-color: #3B4455;\n",
              "      fill: #D2E3FC;\n",
              "    }\n",
              "\n",
              "    [theme=dark] .colab-df-convert:hover {\n",
              "      background-color: #434B5C;\n",
              "      box-shadow: 0px 1px 3px 1px rgba(0, 0, 0, 0.15);\n",
              "      filter: drop-shadow(0px 1px 2px rgba(0, 0, 0, 0.3));\n",
              "      fill: #FFFFFF;\n",
              "    }\n",
              "  </style>\n",
              "\n",
              "    <script>\n",
              "      const buttonEl =\n",
              "        document.querySelector('#df-35fabd8d-541f-4c5a-86da-96d7b40ec875 button.colab-df-convert');\n",
              "      buttonEl.style.display =\n",
              "        google.colab.kernel.accessAllowed ? 'block' : 'none';\n",
              "\n",
              "      async function convertToInteractive(key) {\n",
              "        const element = document.querySelector('#df-35fabd8d-541f-4c5a-86da-96d7b40ec875');\n",
              "        const dataTable =\n",
              "          await google.colab.kernel.invokeFunction('convertToInteractive',\n",
              "                                                    [key], {});\n",
              "        if (!dataTable) return;\n",
              "\n",
              "        const docLinkHtml = 'Like what you see? Visit the ' +\n",
              "          '<a target=\"_blank\" href=https://colab.research.google.com/notebooks/data_table.ipynb>data table notebook</a>'\n",
              "          + ' to learn more about interactive tables.';\n",
              "        element.innerHTML = '';\n",
              "        dataTable['output_type'] = 'display_data';\n",
              "        await google.colab.output.renderOutput(dataTable, element);\n",
              "        const docLink = document.createElement('div');\n",
              "        docLink.innerHTML = docLinkHtml;\n",
              "        element.appendChild(docLink);\n",
              "      }\n",
              "    </script>\n",
              "  </div>\n",
              "\n",
              "\n",
              "<div id=\"df-bfd7ab9a-7021-419a-a3ce-9bde33393ab6\">\n",
              "  <button class=\"colab-df-quickchart\" onclick=\"quickchart('df-bfd7ab9a-7021-419a-a3ce-9bde33393ab6')\"\n",
              "            title=\"Suggest charts\"\n",
              "            style=\"display:none;\">\n",
              "\n",
              "<svg xmlns=\"http://www.w3.org/2000/svg\" height=\"24px\"viewBox=\"0 0 24 24\"\n",
              "     width=\"24px\">\n",
              "    <g>\n",
              "        <path d=\"M19 3H5c-1.1 0-2 .9-2 2v14c0 1.1.9 2 2 2h14c1.1 0 2-.9 2-2V5c0-1.1-.9-2-2-2zM9 17H7v-7h2v7zm4 0h-2V7h2v10zm4 0h-2v-4h2v4z\"/>\n",
              "    </g>\n",
              "</svg>\n",
              "  </button>\n",
              "\n",
              "<style>\n",
              "  .colab-df-quickchart {\n",
              "      --bg-color: #E8F0FE;\n",
              "      --fill-color: #1967D2;\n",
              "      --hover-bg-color: #E2EBFA;\n",
              "      --hover-fill-color: #174EA6;\n",
              "      --disabled-fill-color: #AAA;\n",
              "      --disabled-bg-color: #DDD;\n",
              "  }\n",
              "\n",
              "  [theme=dark] .colab-df-quickchart {\n",
              "      --bg-color: #3B4455;\n",
              "      --fill-color: #D2E3FC;\n",
              "      --hover-bg-color: #434B5C;\n",
              "      --hover-fill-color: #FFFFFF;\n",
              "      --disabled-bg-color: #3B4455;\n",
              "      --disabled-fill-color: #666;\n",
              "  }\n",
              "\n",
              "  .colab-df-quickchart {\n",
              "    background-color: var(--bg-color);\n",
              "    border: none;\n",
              "    border-radius: 50%;\n",
              "    cursor: pointer;\n",
              "    display: none;\n",
              "    fill: var(--fill-color);\n",
              "    height: 32px;\n",
              "    padding: 0;\n",
              "    width: 32px;\n",
              "  }\n",
              "\n",
              "  .colab-df-quickchart:hover {\n",
              "    background-color: var(--hover-bg-color);\n",
              "    box-shadow: 0 1px 2px rgba(60, 64, 67, 0.3), 0 1px 3px 1px rgba(60, 64, 67, 0.15);\n",
              "    fill: var(--button-hover-fill-color);\n",
              "  }\n",
              "\n",
              "  .colab-df-quickchart-complete:disabled,\n",
              "  .colab-df-quickchart-complete:disabled:hover {\n",
              "    background-color: var(--disabled-bg-color);\n",
              "    fill: var(--disabled-fill-color);\n",
              "    box-shadow: none;\n",
              "  }\n",
              "\n",
              "  .colab-df-spinner {\n",
              "    border: 2px solid var(--fill-color);\n",
              "    border-color: transparent;\n",
              "    border-bottom-color: var(--fill-color);\n",
              "    animation:\n",
              "      spin 1s steps(1) infinite;\n",
              "  }\n",
              "\n",
              "  @keyframes spin {\n",
              "    0% {\n",
              "      border-color: transparent;\n",
              "      border-bottom-color: var(--fill-color);\n",
              "      border-left-color: var(--fill-color);\n",
              "    }\n",
              "    20% {\n",
              "      border-color: transparent;\n",
              "      border-left-color: var(--fill-color);\n",
              "      border-top-color: var(--fill-color);\n",
              "    }\n",
              "    30% {\n",
              "      border-color: transparent;\n",
              "      border-left-color: var(--fill-color);\n",
              "      border-top-color: var(--fill-color);\n",
              "      border-right-color: var(--fill-color);\n",
              "    }\n",
              "    40% {\n",
              "      border-color: transparent;\n",
              "      border-right-color: var(--fill-color);\n",
              "      border-top-color: var(--fill-color);\n",
              "    }\n",
              "    60% {\n",
              "      border-color: transparent;\n",
              "      border-right-color: var(--fill-color);\n",
              "    }\n",
              "    80% {\n",
              "      border-color: transparent;\n",
              "      border-right-color: var(--fill-color);\n",
              "      border-bottom-color: var(--fill-color);\n",
              "    }\n",
              "    90% {\n",
              "      border-color: transparent;\n",
              "      border-bottom-color: var(--fill-color);\n",
              "    }\n",
              "  }\n",
              "</style>\n",
              "\n",
              "  <script>\n",
              "    async function quickchart(key) {\n",
              "      const quickchartButtonEl =\n",
              "        document.querySelector('#' + key + ' button');\n",
              "      quickchartButtonEl.disabled = true;  // To prevent multiple clicks.\n",
              "      quickchartButtonEl.classList.add('colab-df-spinner');\n",
              "      try {\n",
              "        const charts = await google.colab.kernel.invokeFunction(\n",
              "            'suggestCharts', [key], {});\n",
              "      } catch (error) {\n",
              "        console.error('Error during call to suggestCharts:', error);\n",
              "      }\n",
              "      quickchartButtonEl.classList.remove('colab-df-spinner');\n",
              "      quickchartButtonEl.classList.add('colab-df-quickchart-complete');\n",
              "    }\n",
              "    (() => {\n",
              "      let quickchartButtonEl =\n",
              "        document.querySelector('#df-bfd7ab9a-7021-419a-a3ce-9bde33393ab6 button');\n",
              "      quickchartButtonEl.style.display =\n",
              "        google.colab.kernel.accessAllowed ? 'block' : 'none';\n",
              "    })();\n",
              "  </script>\n",
              "</div>\n",
              "    </div>\n",
              "  </div>\n"
            ]
          },
          "metadata": {},
          "execution_count": 11
        }
      ],
      "source": [
        "# Load data\n",
        "df = pd.read_csv('https://raw.githubusercontent.com/MichiganDataScienceTeam/2023-Tutorials/main/data/states_edu.csv')\n",
        "\n",
        "# Display head of data, defaults to 5\n",
        "df.head()"
      ]
    },
    {
      "cell_type": "markdown",
      "metadata": {
        "id": "hR1-gaTctn-N"
      },
      "source": [
        "You should always familiarize yourself with what each column in the dataframe represents. Read about the states_edu dataset here: https://www.kaggle.com/noriuk/us-education-datasets-unification-project"
      ]
    },
    {
      "cell_type": "markdown",
      "metadata": {
        "id": "lHqxIUKgtn-N"
      },
      "source": [
        "Use this space to rename columns, deal with missing data, etc. _(optional)_"
      ]
    },
    {
      "cell_type": "code",
      "execution_count": null,
      "metadata": {
        "id": "9LDD2O8Etn-N"
      },
      "outputs": [],
      "source": []
    },
    {
      "cell_type": "markdown",
      "metadata": {
        "id": "UT7FzRnWtn-N"
      },
      "source": [
        "<h2>Exploratory Data Analysis (EDA) </h2>"
      ]
    },
    {
      "cell_type": "code",
      "source": [
        "# Grade 4 Math"
      ],
      "metadata": {
        "id": "wsH1pGqt3fVC"
      },
      "execution_count": null,
      "outputs": []
    },
    {
      "cell_type": "markdown",
      "metadata": {
        "id": "hpLlBhmNtn-N"
      },
      "source": [
        "Chosen one of Grade 4 Reading, Grade 4 Math, or Grade 8 Math to focus on: *Grade 4 Math*"
      ]
    },
    {
      "cell_type": "markdown",
      "metadata": {
        "id": "CaNvHDpgtn-N"
      },
      "source": [
        "How many years of data are logged in our dataset?"
      ]
    },
    {
      "cell_type": "code",
      "execution_count": null,
      "metadata": {
        "id": "PFLyqngstn-O"
      },
      "outputs": [],
      "source": [
        "years_of_data = df[\"YEAR\"].nunique()"
      ]
    },
    {
      "cell_type": "markdown",
      "metadata": {
        "id": "rloZxzKOtn-O"
      },
      "source": [
        "Let's compare Michigan to Ohio. Which state has the higher average across all years in the test you chose?"
      ]
    },
    {
      "cell_type": "code",
      "execution_count": null,
      "metadata": {
        "id": "1kAv3wRmtn-O"
      },
      "outputs": [],
      "source": [
        "# Comparing Michigan to Ohio with their averages\n",
        "miavg = df[df[\"STATE\"] == \"MICHIGAN\"][\"AVG_MATH_4_SCORE\"].mean()\n",
        "oavg = df[df[\"STATE\"] == \"OHIO\"][\"AVG_MATH_4_SCORE\"].mean()\n",
        "higher_avg_state = \"Michigan\" if miavg > oavg else \"Ohio\""
      ]
    },
    {
      "cell_type": "markdown",
      "metadata": {
        "id": "mrSX37eJtn-O"
      },
      "source": [
        "Find the average for your chosen test across all states in 2019"
      ]
    },
    {
      "cell_type": "markdown",
      "source": [
        "avg_2019 = df[df[\"YEAR\"] == 2019][\"AVG_MATH_4_SCORE\"].mean()"
      ],
      "metadata": {
        "id": "zYku9zgVtn-O"
      }
    },
    {
      "cell_type": "markdown",
      "metadata": {
        "id": "4TXeXa2qtn-O"
      },
      "source": [
        "For each state, find a maximum value for your chosen test score\n",
        "\n",
        "Refer to the `Grouping and Aggregating` section in Tutorial 0 if you are stuck."
      ]
    },
    {
      "cell_type": "code",
      "execution_count": null,
      "metadata": {
        "id": "h6YLg5R9tn-O"
      },
      "outputs": [],
      "source": [
        "max_scores = df.groupby(\"STATE\")[\"AVG_MATH_4_SCORE\"].max()"
      ]
    },
    {
      "cell_type": "markdown",
      "metadata": {
        "id": "8CuzxKbntn-P"
      },
      "source": [
        "<h2> Feature Engineering </h2>\n",
        "\n",
        "After exploring the data, you can choose to modify features that you would use to predict the performance of the students on your chosen response variable.\n",
        "\n",
        "You can also create your own features. For example, perhaps you figured that maybe a state's expenditure per student may affect their overall academic performance so you create a expenditure_per_student feature.\n",
        "\n",
        "Use this space to modify or create features."
      ]
    },
    {
      "cell_type": "code",
      "execution_count": null,
      "metadata": {
        "id": "OHaZVwROtn-P"
      },
      "outputs": [],
      "source": [
        "# Create a new feature: expenditure_per_student\n",
        "df[\"instruction_expenditure_per_student\"] = df[\"INSTRUCTION_EXPENDITURE\"] / df[\"ENROLL\"]"
      ]
    },
    {
      "cell_type": "markdown",
      "metadata": {
        "id": "Uc_4owIitn-P"
      },
      "source": [
        "Feature engineering justification: Perhaps a state's instruction expenditure per student has an affect on their overall academic performance, so I created an instruction_expenditure_per_student feature."
      ]
    },
    {
      "cell_type": "markdown",
      "metadata": {
        "id": "cAwXQCDytn-P"
      },
      "source": [
        "<h2>Visualization</h2>\n",
        "\n",
        "Investigate the relationship between your chosen response variable and at least two predictors using visualizations. Write down your observations.\n",
        "\n",
        "**Visualization 1**"
      ]
    },
    {
      "cell_type": "code",
      "execution_count": null,
      "metadata": {
        "id": "84KqfOYItn-Q"
      },
      "outputs": [],
      "source": []
    },
    {
      "cell_type": "markdown",
      "metadata": {
        "id": "ZhfHGA9Ytn-Q"
      },
      "source": [
        "**<CAPTION FOR VIZ 1>**"
      ]
    },
    {
      "cell_type": "markdown",
      "metadata": {
        "id": "NLaRYpSutn-Q"
      },
      "source": [
        "**Visualization 2**"
      ]
    },
    {
      "cell_type": "code",
      "execution_count": null,
      "metadata": {
        "id": "Dr-LzuGltn-Q"
      },
      "outputs": [],
      "source": []
    },
    {
      "cell_type": "markdown",
      "metadata": {
        "id": "ZxVoqkOVtn-Q"
      },
      "source": [
        "**<CAPTION FOR VIZ 2>**"
      ]
    },
    {
      "cell_type": "markdown",
      "metadata": {
        "id": "TaA_drk0tn-Q"
      },
      "source": [
        "<h2> Data Creation </h2>\n",
        "\n",
        "_Use this space to create train/test data_"
      ]
    },
    {
      "cell_type": "code",
      "execution_count": null,
      "metadata": {
        "id": "gMDdJ7Aotn-Q"
      },
      "outputs": [],
      "source": [
        "from sklearn.model_selection import train_test_split"
      ]
    },
    {
      "cell_type": "code",
      "execution_count": null,
      "metadata": {
        "id": "fw0L5PEItn-R"
      },
      "outputs": [],
      "source": [
        "# X =\n",
        "# y ="
      ]
    },
    {
      "cell_type": "code",
      "execution_count": null,
      "metadata": {
        "id": "sQdYr0j_tn-R"
      },
      "outputs": [],
      "source": [
        "# X_train, X_test, y_train, y_test = train_test_split(\n",
        "#      X, y, test_size=, random_state=42)"
      ]
    },
    {
      "cell_type": "markdown",
      "metadata": {
        "id": "9vKHCf6qtn-R"
      },
      "source": [
        "<h2> Prediction </h2>"
      ]
    },
    {
      "cell_type": "markdown",
      "metadata": {
        "id": "EJwP0tUutn-R"
      },
      "source": [
        "ML Models [Resource](https://medium.com/@vijaya.beeravalli/comparison-of-machine-learning-classification-models-for-credit-card-default-data-c3cf805c9a5a)"
      ]
    },
    {
      "cell_type": "code",
      "execution_count": null,
      "metadata": {
        "id": "SqYQ_vlytn-R"
      },
      "outputs": [],
      "source": [
        "# import your sklearn class here"
      ]
    },
    {
      "cell_type": "code",
      "execution_count": null,
      "metadata": {
        "id": "Y5-gE72Gtn-R"
      },
      "outputs": [],
      "source": [
        "# create your model here\n",
        "# model ="
      ]
    },
    {
      "cell_type": "code",
      "execution_count": null,
      "metadata": {
        "id": "F-lA5oJOtn-R"
      },
      "outputs": [],
      "source": [
        "model.fit(X_train, y_train)"
      ]
    },
    {
      "cell_type": "code",
      "execution_count": null,
      "metadata": {
        "id": "pcnER_Qqtn-R"
      },
      "outputs": [],
      "source": [
        "y_pred = model.predict(X_test)"
      ]
    },
    {
      "cell_type": "markdown",
      "metadata": {
        "id": "xegvcG7Rtn-R"
      },
      "source": [
        "## Evaluation"
      ]
    },
    {
      "cell_type": "markdown",
      "metadata": {
        "id": "V30PBcZJtn-S"
      },
      "source": [
        "Choose some metrics to evaluate the performance of your model, some of them are mentioned in the tutorial."
      ]
    },
    {
      "cell_type": "code",
      "execution_count": null,
      "metadata": {
        "id": "vkSXOI1Ftn-S"
      },
      "outputs": [],
      "source": []
    },
    {
      "cell_type": "markdown",
      "metadata": {
        "id": "wCV4D4TZtn-S"
      },
      "source": [
        "We have copied over the graphs that visualize the model's performance on the training and testing set.\n",
        "\n",
        "Change `col_name` and modify the call to `plt.ylabel()` to isolate how a single predictor affects the model."
      ]
    },
    {
      "cell_type": "code",
      "execution_count": null,
      "metadata": {
        "id": "PiKQTkB4tn-S"
      },
      "outputs": [],
      "source": [
        "# col_name = 'COLUMN NAME OF ONE PREDICTOR'\n",
        "\n",
        "# f = plt.figure(figsize=(12,6))\n",
        "# plt.scatter(X_train[col_name], y_train, color = \"red\")\n",
        "# plt.scatter(X_train[col_name], model.predict(X_train), color = \"green\")\n",
        "\n",
        "# plt.legend(['True Training','Predicted Training'])\n",
        "# plt.xlabel(col_name)\n",
        "# plt.ylabel('NAME OF THE PREDICTOR')\n",
        "# plt.title(\"Model Behavior On Training Set\")"
      ]
    },
    {
      "cell_type": "code",
      "execution_count": null,
      "metadata": {
        "id": "0xS37ZuWtn-S"
      },
      "outputs": [],
      "source": [
        "# col_name = 'COLUMN NAME OF ONE PREDICTOR\"\n",
        "\n",
        "# f = plt.figure(figsize=(12,6))\n",
        "# plt.scatter(X_test[col_name], y_test, color = \"blue\")\n",
        "# plt.scatter(X_test[col_name], model.predict(X_test), color = \"black\")\n",
        "\n",
        "# plt.legend(['True testing','Predicted testing'])\n",
        "# plt.xlabel(col_name)\n",
        "# plt.ylabel('NAME OF THE PREDICTOR')\n",
        "# plt.title(\"Model Behavior on Testing Set\")"
      ]
    },
    {
      "cell_type": "markdown",
      "metadata": {
        "id": "TV3KtgA2tn-S"
      },
      "source": [
        "<h2> Summary </h2>"
      ]
    },
    {
      "cell_type": "markdown",
      "metadata": {
        "id": "5wIhYYVOtn-S"
      },
      "source": [
        "**<WRITE A PARAGRAPH SUMMARIZING YOUR WORK, FINDINGS, AND THE PERFORMANCE OF YOUR MODEL\\>**"
      ]
    }
  ],
  "metadata": {
    "kernelspec": {
      "display_name": "Python 3.9.0 64-bit",
      "language": "python",
      "name": "python3"
    },
    "language_info": {
      "codemirror_mode": {
        "name": "ipython",
        "version": 3
      },
      "file_extension": ".py",
      "mimetype": "text/x-python",
      "name": "python",
      "nbconvert_exporter": "python",
      "pygments_lexer": "ipython3",
      "version": "3.9.0"
    },
    "vscode": {
      "interpreter": {
        "hash": "6cf8df3ff69f85f626faf55c10df6fe2cb9d1236b4dc73844ee4dc01369c2c99"
      }
    },
    "colab": {
      "provenance": [],
      "include_colab_link": true
    }
  },
  "nbformat": 4,
  "nbformat_minor": 0
}